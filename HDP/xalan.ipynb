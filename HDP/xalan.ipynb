{
 "cells": [
  {
   "cell_type": "code",
   "execution_count": 20,
   "metadata": {},
   "outputs": [],
   "source": [
    "import pandas as pd\n",
    "import numpy as np\n",
    "import matplotlib.pyplot as plt\n"
   ]
  },
  {
   "cell_type": "code",
   "execution_count": 26,
   "metadata": {},
   "outputs": [
    {
     "name": "stdout",
     "output_type": "stream",
     "text": [
      "(723, 22)\n",
      "Index(['name', 'wmc', 'dit', 'noc', 'cbo', 'rfc', 'lcom', 'ca', 'ce', 'npm',\n",
      "       'lcom3', 'loc', 'dam', 'moa', 'mfa', 'cam', 'ic', 'cbm', 'amc',\n",
      "       'max_cc', 'avg_cc', 'bug'],\n",
      "      dtype='object')\n",
      "<class 'pandas.core.frame.DataFrame'>\n",
      "RangeIndex: 723 entries, 0 to 722\n",
      "Data columns (total 22 columns):\n",
      " #   Column  Non-Null Count  Dtype  \n",
      "---  ------  --------------  -----  \n",
      " 0   name    723 non-null    object \n",
      " 1   wmc     723 non-null    int64  \n",
      " 2   dit     723 non-null    int64  \n",
      " 3   noc     723 non-null    int64  \n",
      " 4   cbo     723 non-null    int64  \n",
      " 5   rfc     723 non-null    int64  \n",
      " 6   lcom    723 non-null    int64  \n",
      " 7   ca      723 non-null    int64  \n",
      " 8   ce      723 non-null    int64  \n",
      " 9   npm     723 non-null    int64  \n",
      " 10  lcom3   723 non-null    float64\n",
      " 11  loc     723 non-null    int64  \n",
      " 12  dam     723 non-null    float64\n",
      " 13  moa     723 non-null    int64  \n",
      " 14  mfa     723 non-null    float64\n",
      " 15  cam     723 non-null    float64\n",
      " 16  ic      723 non-null    int64  \n",
      " 17  cbm     723 non-null    int64  \n",
      " 18  amc     723 non-null    float64\n",
      " 19  max_cc  723 non-null    int64  \n",
      " 20  avg_cc  723 non-null    float64\n",
      " 21  bug     723 non-null    int64  \n",
      "dtypes: float64(6), int64(15), object(1)\n",
      "memory usage: 124.4+ KB\n",
      "None\n"
     ]
    }
   ],
   "source": [
    "df=pd.read_csv('./data/PROMISE/xalan-2.4.csv')\n",
    "correct = len(df)\n",
    "print(df.shape)\n",
    "print(df.columns)\n",
    "print(df.info())"
   ]
  },
  {
   "cell_type": "code",
   "execution_count": 11,
   "metadata": {},
   "outputs": [
    {
     "data": {
      "text/plain": [
       "name      0\n",
       "wmc       0\n",
       "dit       0\n",
       "noc       0\n",
       "cbo       0\n",
       "rfc       0\n",
       "lcom      0\n",
       "ca        0\n",
       "ce        0\n",
       "npm       0\n",
       "lcom3     0\n",
       "loc       0\n",
       "dam       0\n",
       "moa       0\n",
       "mfa       0\n",
       "cam       0\n",
       "ic        0\n",
       "cbm       0\n",
       "amc       0\n",
       "max_cc    0\n",
       "avg_cc    0\n",
       "bug       0\n",
       "dtype: int64"
      ]
     },
     "execution_count": 11,
     "metadata": {},
     "output_type": "execute_result"
    }
   ],
   "source": [
    "df.isnull().sum()"
   ]
  },
  {
   "cell_type": "code",
   "execution_count": 39,
   "metadata": {},
   "outputs": [
    {
     "name": "stdout",
     "output_type": "stream",
     "text": [
      "723\n",
      "110\n"
     ]
    }
   ],
   "source": [
    "df['bug'].value_counts()\n",
    "clean_df = df[df['bug']!=0]\n",
    "clean_df.shape\n",
    "bugg = len(clean_df)\n",
    "print(correct)\n",
    "print(bugg)"
   ]
  },
  {
   "cell_type": "code",
   "execution_count": 21,
   "metadata": {},
   "outputs": [],
   "source": [
    "plt.rcParams['figure.figsize']=(15,3)"
   ]
  },
  {
   "cell_type": "code",
   "execution_count": 37,
   "metadata": {},
   "outputs": [
    {
     "data": {
      "image/png": "[encoded data removed]",
      "text/plain": [
       "<Figure size 432x288 with 1 Axes>"
      ]
     },
     "metadata": {},
     "output_type": "display_data"
    }
   ],
   "source": [
    "y=np.array([correct,bugg])\n",
    "labels=[\"clean\",\"buggy\"]\n",
    "explode=[0.2,0]\n",
    "plt.pie(y, labels = labels, startangle = 90,explode=explode ,autopct='%1.0f%%')\n",
    "plt.title(\"clean and buggy data in XALAN-2.4\")\n",
    "plt.show() "
   ]
  }
 ],
 "metadata": {
  "kernelspec": {
   "display_name": "Python 3.10.6 64-bit",
   "language": "python",
   "name": "python3"
  },
  "language_info": {
   "codemirror_mode": {
    "name": "ipython",
    "version": 3
   },
   "file_extension": ".py",
   "mimetype": "text/x-python",
   "name": "python",
   "nbconvert_exporter": "python",
   "pygments_lexer": "ipython3",
   "version": "3.10.6"
  },
  "orig_nbformat": 4,
  "vscode": {
   "interpreter": {
    "hash": "2651f786a81858a092aff2f04d46be6f7750183c4f3dbcab9f4aff1f8952553f"
   }
  }
 },
 "nbformat": 4,
 "nbformat_minor": 2
}

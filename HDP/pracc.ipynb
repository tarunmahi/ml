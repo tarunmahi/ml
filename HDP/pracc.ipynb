{
 "cells": [
  {
   "cell_type": "code",
   "execution_count": 2,
   "metadata": {},
   "outputs": [],
   "source": [
    "import pandas as pd\n"
   ]
  },
  {
   "cell_type": "code",
   "execution_count": 4,
   "metadata": {},
   "outputs": [
    {
     "name": "stdout",
     "output_type": "stream",
     "text": [
      "<class 'pandas.core.frame.DataFrame'>\n",
      "RangeIndex: 1862 entries, 0 to 1861\n",
      "Data columns (total 63 columns):\n",
      " #   Column                               Non-Null Count  Dtype  \n",
      "---  ------                               --------------  -----  \n",
      " 0   id                                   1862 non-null   int64  \n",
      " 1   ck_oo_numberOfPrivateMethods         1862 non-null   int64  \n",
      " 2   LDHH_lcom                            1862 non-null   float64\n",
      " 3   LDHH_fanIn                           1862 non-null   float64\n",
      " 4   numberOfNonTrivialBugsFoundUntil:    1862 non-null   int64  \n",
      " 5   WCHU_numberOfPublicAttributes        1862 non-null   float64\n",
      " 6   WCHU_numberOfAttributes              1862 non-null   float64\n",
      " 7   CvsWEntropy                          1862 non-null   float64\n",
      " 8   LDHH_numberOfPublicMethods           1862 non-null   float64\n",
      " 9   WCHU_fanIn                           1862 non-null   float64\n",
      " 10  LDHH_numberOfPrivateAttributes       1862 non-null   float64\n",
      " 11  CvsEntropy                           1862 non-null   float64\n",
      " 12  LDHH_numberOfPublicAttributes        1862 non-null   float64\n",
      " 13  WCHU_numberOfPrivateMethods          1862 non-null   float64\n",
      " 14  WCHU_numberOfMethods                 1862 non-null   float64\n",
      " 15  ck_oo_numberOfPublicAttributes       1862 non-null   int64  \n",
      " 16  ck_oo_noc                            1862 non-null   int64  \n",
      " 17  numberOfCriticalBugsFoundUntil:      1862 non-null   int64  \n",
      " 18  ck_oo_wmc                            1862 non-null   int64  \n",
      " 19  LDHH_numberOfPrivateMethods          1862 non-null   float64\n",
      " 20  WCHU_numberOfPrivateAttributes       1862 non-null   float64\n",
      " 21  CvsLogEntropy                        1862 non-null   float64\n",
      " 22  WCHU_noc                             1862 non-null   float64\n",
      " 23  LDHH_numberOfAttributesInherited     1862 non-null   float64\n",
      " 24  WCHU_wmc                             1862 non-null   float64\n",
      " 25  ck_oo_fanOut                         1862 non-null   int64  \n",
      " 26  ck_oo_numberOfLinesOfCode            1862 non-null   int64  \n",
      " 27  ck_oo_numberOfAttributesInherited    1862 non-null   int64  \n",
      " 28  ck_oo_numberOfMethods                1862 non-null   int64  \n",
      " 29  ck_oo_dit                            1862 non-null   int64  \n",
      " 30  ck_oo_fanIn                          1862 non-null   int64  \n",
      " 31  LDHH_noc                             1862 non-null   float64\n",
      " 32  WCHU_dit                             1862 non-null   float64\n",
      " 33  ck_oo_lcom                           1862 non-null   int64  \n",
      " 34  WCHU_numberOfAttributesInherited     1862 non-null   float64\n",
      " 35  ck_oo_rfc                            1862 non-null   int64  \n",
      " 36  LDHH_wmc                             1862 non-null   float64\n",
      " 37  LDHH_numberOfAttributes              1862 non-null   float64\n",
      " 38  LDHH_numberOfLinesOfCode             1862 non-null   float64\n",
      " 39  WCHU_fanOut                          1862 non-null   float64\n",
      " 40  WCHU_lcom                            1862 non-null   float64\n",
      " 41  ck_oo_cbo                            1862 non-null   int64  \n",
      " 42  WCHU_rfc                             1862 non-null   float64\n",
      " 43  ck_oo_numberOfAttributes             1862 non-null   int64  \n",
      " 44  numberOfHighPriorityBugsFoundUntil:  1862 non-null   int64  \n",
      " 45  ck_oo_numberOfPrivateAttributes      1862 non-null   int64  \n",
      " 46  numberOfMajorBugsFoundUntil:         1862 non-null   int64  \n",
      " 47  WCHU_numberOfPublicMethods           1862 non-null   float64\n",
      " 48  LDHH_dit                             1862 non-null   float64\n",
      " 49  WCHU_cbo                             1862 non-null   float64\n",
      " 50  CvsLinEntropy                        1862 non-null   float64\n",
      " 51  WCHU_numberOfMethodsInherited        1862 non-null   float64\n",
      " 52  numberOfBugsFoundUntil:              1862 non-null   int64  \n",
      " 53  LDHH_fanOut                          1862 non-null   float64\n",
      " 54  LDHH_numberOfMethodsInherited        1862 non-null   float64\n",
      " 55  LDHH_rfc                             1862 non-null   float64\n",
      " 56  ck_oo_numberOfMethodsInherited       1862 non-null   int64  \n",
      " 57  ck_oo_numberOfPublicMethods          1862 non-null   int64  \n",
      " 58  LDHH_cbo                             1862 non-null   float64\n",
      " 59  WCHU_numberOfLinesOfCode             1862 non-null   float64\n",
      " 60  CvsExpEntropy                        1862 non-null   float64\n",
      " 61  LDHH_numberOfMethods                 1862 non-null   float64\n",
      " 62  class                                1862 non-null   object \n",
      "dtypes: float64(39), int64(23), object(1)\n",
      "memory usage: 916.6+ KB\n"
     ]
    }
   ],
   "source": [
    "df=pd.read_csv('./data/AEEEM/csv_result-Mylyn.csv')\n",
    "df.info()"
   ]
  },
  {
   "cell_type": "code",
   "execution_count": 9,
   "metadata": {},
   "outputs": [
    {
     "name": "stdout",
     "output_type": "stream",
     "text": [
      "defective instances : \n",
      "245\n",
      "non defetive instances :\n",
      "1617\n",
      "defective ratio is :\n",
      "0.15151515151515152\n"
     ]
    }
   ],
   "source": [
    "bug=0\n",
    "cle=0\n",
    "for i in range(0,len(df['class'])):\n",
    "    if df['class'][i]==\"buggy\":\n",
    "        bug+=1\n",
    "    else:\n",
    "        cle+=1\n",
    "print(\"defective instances : \")\n",
    "print(bug)\n",
    "print(\"non defetive instances :\")\n",
    "print(cle)\n",
    "val=(bug/cle)\n",
    "print(\"defective ratio is :\")\n",
    "print(val)\n",
    "    "
   ]
  }
 ],
 "metadata": {
  "kernelspec": {
   "display_name": "Python 3.10.6 64-bit",
   "language": "python",
   "name": "python3"
  },
  "language_info": {
   "codemirror_mode": {
    "name": "ipython",
    "version": 3
   },
   "file_extension": ".py",
   "mimetype": "text/x-python",
   "name": "python",
   "nbconvert_exporter": "python",
   "pygments_lexer": "ipython3",
   "version": "3.10.6"
  },
  "orig_nbformat": 4,
  "vscode": {
   "interpreter": {
    "hash": "2651f786a81858a092aff2f04d46be6f7750183c4f3dbcab9f4aff1f8952553f"
   }
  }
 },
 "nbformat": 4,
 "nbformat_minor": 2
}
